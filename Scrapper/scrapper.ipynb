{
 "cells": [
  {
   "cell_type": "markdown",
   "metadata": {},
   "source": [
    "# Amazon Manga Scrapper"
   ]
  },
  {
   "cell_type": "markdown",
   "metadata": {},
   "source": [
    "#### Import Libraries "
   ]
  },
  {
   "cell_type": "code",
   "execution_count": 2,
   "metadata": {},
   "outputs": [],
   "source": [
    "# For data analysis and manipulation ( pip inst all pandas )\n",
    "import pandas as pd\n",
    "\n",
    "# For sending requests to the website ( pip install requests )\n",
    "import requests\n",
    "\n",
    "# For reading and writing csv files ( pip install csv )\n",
    "import csv\n",
    "\n",
    "# For parsing the html content ( pip install bs4 )\n",
    "from bs4 import BeautifulSoup as bs\n",
    "\n",
    "# For parsing the html content ( pip install lxml )\n",
    "import lxml\n",
    "\n",
    "# For suspending the ssl certificate verification warning ( pip install urllib3 )\n",
    "import urllib3\n",
    "\n",
    "# For generating fake user agent to avoid blocking from the website due to multiple requests from same user agent. ( pip install fake-useragent )\n",
    "from fake_useragent import UserAgent\n"
   ]
  },
  {
   "cell_type": "code",
   "execution_count": 3,
   "metadata": {},
   "outputs": [],
   "source": [
    "# Get the url for the page to be scrapped\n",
    "\n",
    "url = \"https://www.amazon.in/s?k=manga&crid=1J9DIAJWX37ZO&qid=1693917954&sprefix=man%2Caps%2C421&ref=sr_pg_1\"\n"
   ]
  },
  {
   "cell_type": "code",
   "execution_count": 20,
   "metadata": {},
   "outputs": [],
   "source": [
    "# # Get a fake user agent to avoid getting blocked by the website\n",
    "# ua = UserAgent()\n",
    "\n",
    "# # Get a random browser user-agent string\n",
    "# print(ua.random)\n"
   ]
  },
  {
   "cell_type": "code",
   "execution_count": 4,
   "metadata": {},
   "outputs": [],
   "source": [
    "# Headers for the request\n",
    "\n",
    "headers = {\n",
    "    \"User-Agent\": \"Mozilla/5.0 (Windows NT 10.0; Win64; x64) AppleWebKit/537.36 \\\n",
    "    (KHTML, like Gecko) Chrome/108.0.0.0 Safari/537.36\",\n",
    "    \"language\": \"en-US,en;q=0.9\",\n",
    "}\n"
   ]
  },
  {
   "cell_type": "code",
   "execution_count": 5,
   "metadata": {},
   "outputs": [],
   "source": [
    "# Suspend the warning for the SSL certificate verification using urllib3\n",
    "\n",
    "urllib3.disable_warnings(urllib3.exceptions.InsecureRequestWarning)\n"
   ]
  },
  {
   "cell_type": "code",
   "execution_count": 6,
   "metadata": {},
   "outputs": [],
   "source": [
    "# Lists to store scraped data\n",
    "\n",
    "Manga_Name = []\n",
    "Manga_Price = []\n",
    "Manga_Rating = []\n",
    "Manga_Desc = []\n"
   ]
  },
  {
   "cell_type": "code",
   "execution_count": 7,
   "metadata": {},
   "outputs": [
    {
     "name": "stdout",
     "output_type": "stream",
     "text": [
      "Response Code: 200\n",
      "Connection Successful\n"
     ]
    }
   ],
   "source": [
    "# Get the response from the website\n",
    "\n",
    "try:\n",
    "    response = requests.get(url, headers=headers, verify=False)\n",
    "\n",
    "    # Print the response code\n",
    "    response_code = response.status_code\n",
    "    print(\"Response Code:\", response_code)\n",
    "\n",
    "    # Check the response code\n",
    "    if response_code == 200:\n",
    "        print(\"Connection Successful\")\n",
    "    else:\n",
    "        print(\"Connection Failed\")\n",
    "except Exception as e:\n",
    "    print(\"Error occurred:\", e)\n"
   ]
  },
  {
   "cell_type": "code",
   "execution_count": 8,
   "metadata": {},
   "outputs": [],
   "source": [
    "# Let's create a soup object containing the html content of the website received from the request\n",
    "\n",
    "soup = bs(response.content, \"html.parser\")\n",
    "# soup.prettify()\n"
   ]
  },
  {
   "cell_type": "code",
   "execution_count": 9,
   "metadata": {},
   "outputs": [],
   "source": [
    "# Fetch the link as list of Tag objects\n",
    "\n",
    "links = soup.find_all(\n",
    "    \"a\",\n",
    "    attrs={\n",
    "        \"class\": \"a-link-normal s-underline-text s-underline-link-text s-link-style a-text-normal\"\n",
    "    },\n",
    ")\n",
    "# print(links)\n"
   ]
  },
  {
   "cell_type": "code",
   "execution_count": 10,
   "metadata": {},
   "outputs": [],
   "source": [
    "link = links[0].get(\"href\")\n"
   ]
  },
  {
   "cell_type": "code",
   "execution_count": 11,
   "metadata": {},
   "outputs": [
    {
     "data": {
      "text/plain": [
       "'https://www.amazon.in/sspa/click?ie=UTF8&spc=MTozMTE2NDMwMjQxNjM2MTI6MTY5MzkxODAyODpzcF9hdGY6MzAwMDE1NTE2ODg3MTMyOjowOjo&url=%2FRepresentation-Japanese-History-Routledge-Contemporary%2Fdp%2F1138857408%2Fref%3Dsr_1_1_sspa%3Fcrid%3D1J9DIAJWX37ZO%26keywords%3Dmanga%26qid%3D1693918028%26sprefix%3Dman%252Caps%252C421%26sr%3D8-1-spons%26sp_csd%3Dd2lkZ2V0TmFtZT1zcF9hdGY%26psc%3D1'"
      ]
     },
     "execution_count": 11,
     "metadata": {},
     "output_type": "execute_result"
    }
   ],
   "source": [
    "product_url = \"https://www.amazon.in\" + link\n",
    "product_url\n"
   ]
  },
  {
   "cell_type": "code",
   "execution_count": 12,
   "metadata": {},
   "outputs": [],
   "source": [
    "# Let's fetch the name of the manga\n",
    "\n",
    "\n",
    "names = soup.find_all(\n",
    "    \"span\", attrs={\"class\": \"a-size-medium a-color-base a-text-normal\"}\n",
    ")\n",
    "# print(names)\n"
   ]
  },
  {
   "cell_type": "code",
   "execution_count": 13,
   "metadata": {},
   "outputs": [
    {
     "name": "stdout",
     "output_type": "stream",
     "text": [
      "Product Title = Manga and the Representation of Japanese History (Routledge Contemporary Japan Series)\n"
     ]
    }
   ],
   "source": [
    "# Function to extract Product Title\n",
    "def get_title(soup):\n",
    "    try:\n",
    "        # Outer Tag Object\n",
    "        title = soup.find(\n",
    "            \"span\", attrs={\"class\": \"a-size-medium a-color-base a-text-normal\"}\n",
    "        )\n",
    "\n",
    "        # Inner NavigableString Object\n",
    "        title_value = title.string\n",
    "\n",
    "        # Title as a string value\n",
    "        title_string = title_value.strip()\n",
    "\n",
    "        # # Printing types of values for efficient understanding\n",
    "        # print(type(title))\n",
    "        # print(type(title_value))\n",
    "        # print(type(title_string))\n",
    "        # print()\n",
    "    except AttributeError:\n",
    "        title_string = \"\"\n",
    "\n",
    "    return title_string\n",
    "\n",
    "\n",
    "# Print the name of the manga\n",
    "print(\"Product Title =\", get_title(soup))"
   ]
  },
  {
   "cell_type": "code",
   "execution_count": 15,
   "metadata": {},
   "outputs": [
    {
     "ename": "ValueError",
     "evalue": "All arrays must be of the same length",
     "output_type": "error",
     "traceback": [
      "\u001b[1;31m---------------------------------------------------------------------------\u001b[0m",
      "\u001b[1;31mValueError\u001b[0m                                Traceback (most recent call last)",
      "Cell \u001b[1;32mIn[15], line 67\u001b[0m\n\u001b[0;32m     63\u001b[0m         \u001b[39mprint\u001b[39m(\n\u001b[0;32m     64\u001b[0m             \u001b[39mf\u001b[39m\u001b[39m\"\u001b[39m\u001b[39mFailed to fetch the webpage. Status Code: \u001b[39m\u001b[39m{\u001b[39;00mresponse\u001b[39m.\u001b[39mstatus_code\u001b[39m}\u001b[39;00m\u001b[39m\"\u001b[39m)\n\u001b[0;32m     66\u001b[0m \u001b[39m# Create a DataFrame and save data to CSV\u001b[39;00m\n\u001b[1;32m---> 67\u001b[0m df \u001b[39m=\u001b[39m pd\u001b[39m.\u001b[39;49mDataFrame(\n\u001b[0;32m     68\u001b[0m     {\n\u001b[0;32m     69\u001b[0m         \u001b[39m\"\u001b[39;49m\u001b[39mProduct Name\u001b[39;49m\u001b[39m\"\u001b[39;49m: Product_Name,\n\u001b[0;32m     70\u001b[0m         \u001b[39m\"\u001b[39;49m\u001b[39mProduct Price\u001b[39;49m\u001b[39m\"\u001b[39;49m: Product_Price,\n\u001b[0;32m     71\u001b[0m         \u001b[39m\"\u001b[39;49m\u001b[39mProduct Rating\u001b[39;49m\u001b[39m\"\u001b[39;49m: Product_Rating,\n\u001b[0;32m     72\u001b[0m         \u001b[39m\"\u001b[39;49m\u001b[39mProduct Details\u001b[39;49m\u001b[39m\"\u001b[39;49m: Product_Desc,\n\u001b[0;32m     73\u001b[0m     }\n\u001b[0;32m     74\u001b[0m )\n\u001b[0;32m     75\u001b[0m \u001b[39m# df.to_csv(\"Flipkart_Mobiles.csv\", index=False)\u001b[39;00m\n\u001b[0;32m     76\u001b[0m df\n",
      "File \u001b[1;32mc:\\Users\\chirag.a.tiwari\\AppData\\Local\\Programs\\Python\\Python311\\Lib\\site-packages\\pandas\\core\\frame.py:709\u001b[0m, in \u001b[0;36mDataFrame.__init__\u001b[1;34m(self, data, index, columns, dtype, copy)\u001b[0m\n\u001b[0;32m    703\u001b[0m     mgr \u001b[39m=\u001b[39m \u001b[39mself\u001b[39m\u001b[39m.\u001b[39m_init_mgr(\n\u001b[0;32m    704\u001b[0m         data, axes\u001b[39m=\u001b[39m{\u001b[39m\"\u001b[39m\u001b[39mindex\u001b[39m\u001b[39m\"\u001b[39m: index, \u001b[39m\"\u001b[39m\u001b[39mcolumns\u001b[39m\u001b[39m\"\u001b[39m: columns}, dtype\u001b[39m=\u001b[39mdtype, copy\u001b[39m=\u001b[39mcopy\n\u001b[0;32m    705\u001b[0m     )\n\u001b[0;32m    707\u001b[0m \u001b[39melif\u001b[39;00m \u001b[39misinstance\u001b[39m(data, \u001b[39mdict\u001b[39m):\n\u001b[0;32m    708\u001b[0m     \u001b[39m# GH#38939 de facto copy defaults to False only in non-dict cases\u001b[39;00m\n\u001b[1;32m--> 709\u001b[0m     mgr \u001b[39m=\u001b[39m dict_to_mgr(data, index, columns, dtype\u001b[39m=\u001b[39;49mdtype, copy\u001b[39m=\u001b[39;49mcopy, typ\u001b[39m=\u001b[39;49mmanager)\n\u001b[0;32m    710\u001b[0m \u001b[39melif\u001b[39;00m \u001b[39misinstance\u001b[39m(data, ma\u001b[39m.\u001b[39mMaskedArray):\n\u001b[0;32m    711\u001b[0m     \u001b[39mfrom\u001b[39;00m \u001b[39mnumpy\u001b[39;00m\u001b[39m.\u001b[39;00m\u001b[39mma\u001b[39;00m \u001b[39mimport\u001b[39;00m mrecords\n",
      "File \u001b[1;32mc:\\Users\\chirag.a.tiwari\\AppData\\Local\\Programs\\Python\\Python311\\Lib\\site-packages\\pandas\\core\\internals\\construction.py:481\u001b[0m, in \u001b[0;36mdict_to_mgr\u001b[1;34m(data, index, columns, dtype, typ, copy)\u001b[0m\n\u001b[0;32m    477\u001b[0m     \u001b[39melse\u001b[39;00m:\n\u001b[0;32m    478\u001b[0m         \u001b[39m# dtype check to exclude e.g. range objects, scalars\u001b[39;00m\n\u001b[0;32m    479\u001b[0m         arrays \u001b[39m=\u001b[39m [x\u001b[39m.\u001b[39mcopy() \u001b[39mif\u001b[39;00m \u001b[39mhasattr\u001b[39m(x, \u001b[39m\"\u001b[39m\u001b[39mdtype\u001b[39m\u001b[39m\"\u001b[39m) \u001b[39melse\u001b[39;00m x \u001b[39mfor\u001b[39;00m x \u001b[39min\u001b[39;00m arrays]\n\u001b[1;32m--> 481\u001b[0m \u001b[39mreturn\u001b[39;00m arrays_to_mgr(arrays, columns, index, dtype\u001b[39m=\u001b[39;49mdtype, typ\u001b[39m=\u001b[39;49mtyp, consolidate\u001b[39m=\u001b[39;49mcopy)\n",
      "File \u001b[1;32mc:\\Users\\chirag.a.tiwari\\AppData\\Local\\Programs\\Python\\Python311\\Lib\\site-packages\\pandas\\core\\internals\\construction.py:115\u001b[0m, in \u001b[0;36marrays_to_mgr\u001b[1;34m(arrays, columns, index, dtype, verify_integrity, typ, consolidate)\u001b[0m\n\u001b[0;32m    112\u001b[0m \u001b[39mif\u001b[39;00m verify_integrity:\n\u001b[0;32m    113\u001b[0m     \u001b[39m# figure out the index, if necessary\u001b[39;00m\n\u001b[0;32m    114\u001b[0m     \u001b[39mif\u001b[39;00m index \u001b[39mis\u001b[39;00m \u001b[39mNone\u001b[39;00m:\n\u001b[1;32m--> 115\u001b[0m         index \u001b[39m=\u001b[39m _extract_index(arrays)\n\u001b[0;32m    116\u001b[0m     \u001b[39melse\u001b[39;00m:\n\u001b[0;32m    117\u001b[0m         index \u001b[39m=\u001b[39m ensure_index(index)\n",
      "File \u001b[1;32mc:\\Users\\chirag.a.tiwari\\AppData\\Local\\Programs\\Python\\Python311\\Lib\\site-packages\\pandas\\core\\internals\\construction.py:655\u001b[0m, in \u001b[0;36m_extract_index\u001b[1;34m(data)\u001b[0m\n\u001b[0;32m    653\u001b[0m lengths \u001b[39m=\u001b[39m \u001b[39mlist\u001b[39m(\u001b[39mset\u001b[39m(raw_lengths))\n\u001b[0;32m    654\u001b[0m \u001b[39mif\u001b[39;00m \u001b[39mlen\u001b[39m(lengths) \u001b[39m>\u001b[39m \u001b[39m1\u001b[39m:\n\u001b[1;32m--> 655\u001b[0m     \u001b[39mraise\u001b[39;00m \u001b[39mValueError\u001b[39;00m(\u001b[39m\"\u001b[39m\u001b[39mAll arrays must be of the same length\u001b[39m\u001b[39m\"\u001b[39m)\n\u001b[0;32m    657\u001b[0m \u001b[39mif\u001b[39;00m have_dicts:\n\u001b[0;32m    658\u001b[0m     \u001b[39mraise\u001b[39;00m \u001b[39mValueError\u001b[39;00m(\n\u001b[0;32m    659\u001b[0m         \u001b[39m\"\u001b[39m\u001b[39mMixing dicts with non-Series may lead to ambiguous ordering.\u001b[39m\u001b[39m\"\u001b[39m\n\u001b[0;32m    660\u001b[0m     )\n",
      "\u001b[1;31mValueError\u001b[0m: All arrays must be of the same length"
     ]
    }
   ],
   "source": [
    "import requests\n",
    "import pandas as pd\n",
    "from bs4 import BeautifulSoup as bs\n",
    "from urllib3.exceptions import InsecureRequestWarning\n",
    "\n",
    "\n",
    "# Disable insecure request warnings\n",
    "requests.packages.urllib3.disable_warnings()\n",
    "\n",
    "# Lists to store scraped data\n",
    "Product_Name = []\n",
    "Product_Price = []\n",
    "Product_Rating = []\n",
    "Product_Desc = []\n",
    "\n",
    "# Scrape data from multiple pages (2 to 4)\n",
    "for i in range(2, 5):  # Change the number to fetch more pages\n",
    "    url = (\n",
    "        \"https://www.flipkart.com/search?q=manga+&otracker=search&otracker1=search&marketplace=FLIPKART&as-show=on&as=off&page=\"\n",
    "        + str(i)\n",
    "    )\n",
    "\n",
    "    # Send request to the URL and get the response\n",
    "    response = requests.get(url, verify=False)\n",
    "\n",
    "    # Check if the response is successful (status code 200)\n",
    "    if response.status_code == 200:\n",
    "        soup = bs(response.text, \"lxml\")\n",
    "\n",
    "        # Find the link to the next page (NEXT Button link)\n",
    "        link = soup.find(\"a\", attrs={\"class\": \"_1LKTO3\"}).get(\"href\")\n",
    "        product_list = \"https://flipkart.com\" + link\n",
    "\n",
    "        # Find the div containing mobile data on the page\n",
    "        box = soup.find(\"div\", attrs={\"class\": \"_1YokD2 _3Mn1Gg\"})\n",
    "\n",
    "        # Fetch Name, Price, Rating, and Description of each mobile\n",
    "        devices = box.find_all(\"div\", attrs={\"class\": \"_4rR01T\"})\n",
    "        for i in devices:\n",
    "            # Scrape product name from website\n",
    "            name = i.text\n",
    "            Product_Name.append(name)\n",
    "\n",
    "        prices = box.find_all(\"div\", attrs={\"class\": \"_30jeq3 _1_WHN1\"})\n",
    "        for i in prices:\n",
    "            # Scrape product price from website\n",
    "            price = i.text.strip()\n",
    "            Product_Price.append(price)\n",
    "\n",
    "        rating = box.find_all(\"div\", attrs={\"class\": \"_3LWZlK\"})\n",
    "        for i in rating:\n",
    "            # Scrape product rating from website\n",
    "            rating = i.text.strip()\n",
    "            Product_Rating.append(rating)\n",
    "\n",
    "        details = box.find_all(\"ul\", attrs={\"class\": \"_1xgFaf\"})\n",
    "        for i in details:\n",
    "            # Scrape product details from website\n",
    "            details = i.text.strip()\n",
    "            Product_Desc.append(details)\n",
    "\n",
    "    else:\n",
    "        print(\n",
    "            f\"Failed to fetch the webpage. Status Code: {response.status_code}\")\n",
    "\n",
    "# Create a DataFrame and save data to CSV\n",
    "df = pd.DataFrame(\n",
    "    {\n",
    "        \"Product Name\": Product_Name,\n",
    "        \"Product Price\": Product_Price,\n",
    "        \"Product Rating\": Product_Rating,\n",
    "        \"Product Details\": Product_Desc,\n",
    "    }\n",
    ")\n",
    "# df.to_csv(\"Flipkart_Mobiles.csv\", index=False)\n",
    "df\n",
    "print(\"Data Exported!\")"
   ]
  },
  {
   "cell_type": "code",
   "execution_count": null,
   "metadata": {},
   "outputs": [],
   "source": []
  }
 ],
 "metadata": {
  "kernelspec": {
   "display_name": "Python 3",
   "language": "python",
   "name": "python3"
  },
  "language_info": {
   "codemirror_mode": {
    "name": "ipython",
    "version": 3
   },
   "file_extension": ".py",
   "mimetype": "text/x-python",
   "name": "python",
   "nbconvert_exporter": "python",
   "pygments_lexer": "ipython3",
   "version": "3.11.1"
  },
  "orig_nbformat": 4
 },
 "nbformat": 4,
 "nbformat_minor": 2
}
