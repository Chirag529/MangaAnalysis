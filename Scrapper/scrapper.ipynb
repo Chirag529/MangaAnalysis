{
 "cells": [
  {
   "cell_type": "markdown",
   "metadata": {},
   "source": [
    "# Amazon Manga Scrapper"
   ]
  },
  {
   "cell_type": "markdown",
   "metadata": {},
   "source": [
    "#### Import Libraries "
   ]
  },
  {
   "cell_type": "code",
   "execution_count": 18,
   "metadata": {},
   "outputs": [],
   "source": [
    "# For data analysis and manipulation ( pip inst all pandas )\n",
    "import pandas as pd\n",
    "\n",
    "# For sending requests to the website ( pip install requests )\n",
    "import requests\n",
    "\n",
    "# For reading and writing csv files ( pip install csv )\n",
    "import csv\n",
    "\n",
    "# For parsing the html content ( pip install bs4 )\n",
    "from bs4 import BeautifulSoup as bs\n",
    "\n",
    "# For parsing the html content ( pip install lxml )\n",
    "import lxml\n",
    "\n",
    "# For suspending the ssl certificate verification warning ( pip install urllib3 )\n",
    "import urllib3\n",
    "\n",
    "# For generating fake user agent to avoid blocking from the website due to multiple requests from same user agent. ( pip install fake-useragent )\n",
    "from fake_useragent import UserAgent"
   ]
  },
  {
   "cell_type": "code",
   "execution_count": 19,
   "metadata": {},
   "outputs": [],
   "source": [
    "# Get the url for the page to be scrapped\n",
    "\n",
    "url = \"https://www.amazon.in/s?k=manga&crid=1C68NJBG96CV5&sprefix=%2Caps%2C1146&ref=nb_sb_noss_2\""
   ]
  },
  {
   "cell_type": "code",
   "execution_count": 20,
   "metadata": {},
   "outputs": [],
   "source": [
    "# # Get a fake user agent to avoid getting blocked by the website\n",
    "# ua = UserAgent()\n",
    "\n",
    "# # Get a random browser user-agent string\n",
    "# print(ua.random)"
   ]
  },
  {
   "cell_type": "code",
   "execution_count": 21,
   "metadata": {},
   "outputs": [],
   "source": [
    "# Headers for the request\n",
    "\n",
    "headers = {\n",
    "    \"User-Agent\": \"Mozilla/5.0 (Windows NT 10.0; Win64; x64) AppleWebKit/537.36 \\\n",
    "    (KHTML, like Gecko) Chrome/108.0.0.0 Safari/537.36\",\n",
    "    \"language\": \"en-US,en;q=0.9\",\n",
    "}"
   ]
  },
  {
   "cell_type": "code",
   "execution_count": 22,
   "metadata": {},
   "outputs": [],
   "source": [
    "# Suspend the warning for the SSL certificate verification using urllib3\n",
    "\n",
    "urllib3.disable_warnings(urllib3.exceptions.InsecureRequestWarning)"
   ]
  },
  {
   "cell_type": "code",
   "execution_count": 23,
   "metadata": {},
   "outputs": [],
   "source": [
    "# Lists to store scraped data\n",
    "\n",
    "Manga_Name = []\n",
    "Manga_Price = []\n",
    "Manga_Rating = []\n",
    "Manga_Desc = []"
   ]
  },
  {
   "cell_type": "code",
   "execution_count": 24,
   "metadata": {},
   "outputs": [
    {
     "name": "stdout",
     "output_type": "stream",
     "text": [
      "Response Code: 200\n",
      "Connection Successful\n"
     ]
    }
   ],
   "source": [
    "# Get the response from the website\n",
    "\n",
    "try:\n",
    "    response = requests.get(url, headers=headers, verify=False)\n",
    "\n",
    "    # Print the response code\n",
    "    response_code = response.status_code\n",
    "    print(\"Response Code:\", response_code)\n",
    "\n",
    "    # Check the response code\n",
    "    if response_code == 200:\n",
    "        print(\"Connection Successful\")\n",
    "    else:\n",
    "        print(\"Connection Failed\")\n",
    "except Exception as e:\n",
    "    print(\"Error occurred:\", e)"
   ]
  },
  {
   "cell_type": "code",
   "execution_count": 25,
   "metadata": {},
   "outputs": [],
   "source": [
    "# Let's create a soup object containing the html content of the website received from the request\n",
    "\n",
    "soup = bs(response.content, \"html.parser\")\n",
    "# soup.prettify()"
   ]
  },
  {
   "cell_type": "code",
   "execution_count": 26,
   "metadata": {},
   "outputs": [],
   "source": [
    "# Fetch the link as list of Tag objects\n",
    "\n",
    "links = soup.find_all(\n",
    "    \"a\",\n",
    "    attrs={\n",
    "        \"class\": \"a-link-normal s-underline-text s-underline-link-text s-link-style a-text-normal\"\n",
    "    },\n",
    ")\n",
    "# print(links)"
   ]
  },
  {
   "cell_type": "code",
   "execution_count": 27,
   "metadata": {},
   "outputs": [],
   "source": [
    "link = links[0].get(\"href\")"
   ]
  },
  {
   "cell_type": "code",
   "execution_count": 28,
   "metadata": {},
   "outputs": [
    {
     "data": {
      "text/plain": [
       "'https://www.amazon.in/sspa/click?ie=UTF8&spc=MTo2NjY4MDk4OTc4NzM2MTE6MTY5MzgzMjU4MTpzcF9hdGY6MzAwMDAwMzg4MTYzODMyOjowOjo&url=%2FTokyo-Ghoul-Vol-Sui-Ishida%2Fdp%2F1421580365%2Fref%3Dsr_1_1_sspa%3Fcrid%3D1C68NJBG96CV5%26keywords%3Dmanga%26qid%3D1693832581%26sprefix%3D%252Caps%252C1146%26sr%3D8-1-spons%26sp_csd%3Dd2lkZ2V0TmFtZT1zcF9hdGY%26psc%3D1'"
      ]
     },
     "execution_count": 28,
     "metadata": {},
     "output_type": "execute_result"
    }
   ],
   "source": [
    "product_url = \"https://www.amazon.in\" + link\n",
    "product_url"
   ]
  },
  {
   "cell_type": "code",
   "execution_count": 29,
   "metadata": {},
   "outputs": [],
   "source": [
    "# Let's fetch the name of the manga\n",
    "\n",
    "\n",
    "names = soup.find_all(\n",
    "    \"span\", attrs={\"class\": \"a-size-medium a-color-base a-text-normal\"}\n",
    ")\n",
    "# print(names)"
   ]
  },
  {
   "cell_type": "code",
   "execution_count": 30,
   "metadata": {},
   "outputs": [
    {
     "name": "stdout",
     "output_type": "stream",
     "text": [
      "Product Title = TOKYO GHOUL 01\n"
     ]
    }
   ],
   "source": [
    "\n",
    "# Function to extract Product Title\n",
    "def get_title(soup):\n",
    "\n",
    "    try:\n",
    "        # Outer Tag Object\n",
    "        title = soup.find(\n",
    "            \"span\", attrs={\"class\": 'a-size-medium a-color-base a-text-normal'})\n",
    "\n",
    "        # Inner NavigableString Object\n",
    "        title_value = title.string\n",
    "\n",
    "        # Title as a string value\n",
    "        title_string = title_value.strip()\n",
    "\n",
    "        # # Printing types of values for efficient understanding\n",
    "        # print(type(title))\n",
    "        # print(type(title_value))\n",
    "        # print(type(title_string))\n",
    "        # print()\n",
    "    except AttributeError:\n",
    "        title_string = \"\"\n",
    "\n",
    "    return title_string\n",
    "\n",
    "\n",
    "# Print the name of the manga\n",
    "print(\"Product Title =\", get_title(soup))"
   ]
  },
  {
   "cell_type": "code",
   "execution_count": null,
   "metadata": {},
   "outputs": [],
   "source": []
  }
 ],
 "metadata": {
  "kernelspec": {
   "display_name": "Python 3",
   "language": "python",
   "name": "python3"
  },
  "language_info": {
   "codemirror_mode": {
    "name": "ipython",
    "version": 3
   },
   "file_extension": ".py",
   "mimetype": "text/x-python",
   "name": "python",
   "nbconvert_exporter": "python",
   "pygments_lexer": "ipython3",
   "version": "3.11.1"
  },
  "orig_nbformat": 4
 },
 "nbformat": 4,
 "nbformat_minor": 2
}
