{
 "cells": [
  {
   "cell_type": "markdown",
   "metadata": {},
   "source": [
    "# Amazon Manga Scrapper"
   ]
  },
  {
   "cell_type": "markdown",
   "metadata": {},
   "source": [
    "#### Import Libraries "
   ]
  },
  {
   "cell_type": "code",
   "execution_count": 2,
   "metadata": {},
   "outputs": [],
   "source": [
    "# For data analysis and manipulation ( pip inst all pandas )\n",
    "import pandas as pd\n",
    "\n",
    "# For sending requests to the website ( pip install requests )\n",
    "import requests\n",
    "\n",
    "# For reading and writing csv files ( pip install csv )\n",
    "import csv\n",
    "\n",
    "# For parsing the html content ( pip install bs4 )\n",
    "from bs4 import BeautifulSoup as bs\n",
    "\n",
    "# For parsing the html content ( pip install lxml )\n",
    "import lxml\n",
    "\n",
    "# For suspending the ssl certificate verification warning ( pip install urllib3 )\n",
    "import urllib3\n",
    "\n",
    "# For generating fake user agent to avoid blocking from the website due to multiple requests from same user agent. ( pip install fake-useragent )\n",
    "from fake_useragent import UserAgent\n"
   ]
  },
  {
   "cell_type": "code",
   "execution_count": 3,
   "metadata": {},
   "outputs": [],
   "source": [
    "# Get the url for the page to be scrapped\n",
    "\n",
    "url = \"https://www.amazon.in/s?k=manga&crid=1J9DIAJWX37ZO&qid=1693917954&sprefix=man%2Caps%2C421&ref=sr_pg_1\"\n"
   ]
  },
  {
   "cell_type": "code",
   "execution_count": 20,
   "metadata": {},
   "outputs": [],
   "source": [
    "# # Get a fake user agent to avoid getting blocked by the website\n",
    "# ua = UserAgent()\n",
    "\n",
    "# # Get a random browser user-agent string\n",
    "# print(ua.random)\n"
   ]
  },
  {
   "cell_type": "code",
   "execution_count": 4,
   "metadata": {},
   "outputs": [],
   "source": [
    "# Headers for the request\n",
    "\n",
    "headers = {\n",
    "    \"User-Agent\": \"Mozilla/5.0 (Windows NT 10.0; Win64; x64) AppleWebKit/537.36 \\\n",
    "    (KHTML, like Gecko) Chrome/108.0.0.0 Safari/537.36\",\n",
    "    \"language\": \"en-US,en;q=0.9\",\n",
    "}\n"
   ]
  },
  {
   "cell_type": "code",
   "execution_count": 5,
   "metadata": {},
   "outputs": [],
   "source": [
    "# Suspend the warning for the SSL certificate verification using urllib3\n",
    "\n",
    "urllib3.disable_warnings(urllib3.exceptions.InsecureRequestWarning)\n"
   ]
  },
  {
   "cell_type": "code",
   "execution_count": 6,
   "metadata": {},
   "outputs": [],
   "source": [
    "# Lists to store scraped data\n",
    "\n",
    "Manga_Name = []\n",
    "Manga_Price = []\n",
    "Manga_Rating = []\n",
    "Manga_Desc = []\n"
   ]
  },
  {
   "cell_type": "code",
   "execution_count": 7,
   "metadata": {},
   "outputs": [
    {
     "name": "stdout",
     "output_type": "stream",
     "text": [
      "Response Code: 200\n",
      "Connection Successful\n"
     ]
    }
   ],
   "source": [
    "# Get the response from the website\n",
    "\n",
    "try:\n",
    "    response = requests.get(url, headers=headers, verify=False)\n",
    "\n",
    "    # Print the response code\n",
    "    response_code = response.status_code\n",
    "    print(\"Response Code:\", response_code)\n",
    "\n",
    "    # Check the response code\n",
    "    if response_code == 200:\n",
    "        print(\"Connection Successful\")\n",
    "    else:\n",
    "        print(\"Connection Failed\")\n",
    "except Exception as e:\n",
    "    print(\"Error occurred:\", e)\n"
   ]
  },
  {
   "cell_type": "code",
   "execution_count": 8,
   "metadata": {},
   "outputs": [],
   "source": [
    "# Let's create a soup object containing the html content of the website received from the request\n",
    "\n",
    "soup = bs(response.content, \"html.parser\")\n",
    "# soup.prettify()\n"
   ]
  },
  {
   "cell_type": "code",
   "execution_count": 9,
   "metadata": {},
   "outputs": [],
   "source": [
    "# Fetch the link as list of Tag objects\n",
    "\n",
    "links = soup.find_all(\n",
    "    \"a\",\n",
    "    attrs={\n",
    "        \"class\": \"a-link-normal s-underline-text s-underline-link-text s-link-style a-text-normal\"\n",
    "    },\n",
    ")\n",
    "# print(links)\n"
   ]
  },
  {
   "cell_type": "code",
   "execution_count": 10,
   "metadata": {},
   "outputs": [],
   "source": [
    "link = links[0].get(\"href\")\n"
   ]
  },
  {
   "cell_type": "code",
   "execution_count": 11,
   "metadata": {},
   "outputs": [
    {
     "data": {
      "text/plain": [
       "'https://www.amazon.in/sspa/click?ie=UTF8&spc=MTozMTE2NDMwMjQxNjM2MTI6MTY5MzkxODAyODpzcF9hdGY6MzAwMDE1NTE2ODg3MTMyOjowOjo&url=%2FRepresentation-Japanese-History-Routledge-Contemporary%2Fdp%2F1138857408%2Fref%3Dsr_1_1_sspa%3Fcrid%3D1J9DIAJWX37ZO%26keywords%3Dmanga%26qid%3D1693918028%26sprefix%3Dman%252Caps%252C421%26sr%3D8-1-spons%26sp_csd%3Dd2lkZ2V0TmFtZT1zcF9hdGY%26psc%3D1'"
      ]
     },
     "execution_count": 11,
     "metadata": {},
     "output_type": "execute_result"
    }
   ],
   "source": [
    "product_url = \"https://www.amazon.in\" + link\n",
    "product_url\n"
   ]
  },
  {
   "cell_type": "code",
   "execution_count": 12,
   "metadata": {},
   "outputs": [],
   "source": [
    "# Let's fetch the name of the manga\n",
    "\n",
    "\n",
    "names = soup.find_all(\n",
    "    \"span\", attrs={\"class\": \"a-size-medium a-color-base a-text-normal\"}\n",
    ")\n",
    "# print(names)\n"
   ]
  },
  {
   "cell_type": "code",
   "execution_count": 13,
   "metadata": {},
   "outputs": [
    {
     "name": "stdout",
     "output_type": "stream",
     "text": [
      "Product Title = Manga and the Representation of Japanese History (Routledge Contemporary Japan Series)\n"
     ]
    }
   ],
   "source": [
    "# Function to extract Product Title\n",
    "def get_title(soup):\n",
    "    try:\n",
    "        # Outer Tag Object\n",
    "        title = soup.find(\n",
    "            \"span\", attrs={\"class\": \"a-size-medium a-color-base a-text-normal\"}\n",
    "        )\n",
    "\n",
    "        # Inner NavigableString Object\n",
    "        title_value = title.string\n",
    "\n",
    "        # Title as a string value\n",
    "        title_string = title_value.strip()\n",
    "\n",
    "        # # Printing types of values for efficient understanding\n",
    "        # print(type(title))\n",
    "        # print(type(title_value))\n",
    "        # print(type(title_string))\n",
    "        # print()\n",
    "    except AttributeError:\n",
    "        title_string = \"\"\n",
    "\n",
    "    return title_string\n",
    "\n",
    "\n",
    "# Print the name of the manga\n",
    "print(\"Product Title =\", get_title(soup))"
   ]
  },
  {
   "cell_type": "code",
   "execution_count": 19,
   "metadata": {},
   "outputs": [
    {
     "name": "stdout",
     "output_type": "stream",
     "text": [
      "Product_Name Length: 120\n",
      "Product_Price Length: 120\n",
      "Product_Rating Length: 74\n",
      "Error: Lists have different lengths. Check your scraping logic.\n",
      "Data Exported!\n"
     ]
    }
   ],
   "source": [
    "import requests\n",
    "import pandas as pd\n",
    "from bs4 import BeautifulSoup as bs\n",
    "from urllib3.exceptions import InsecureRequestWarning\n",
    "import math\n",
    "\n",
    "\n",
    "# Disable insecure request warnings\n",
    "requests.packages.urllib3.disable_warnings()\n",
    "\n",
    "# Lists to store scraped data\n",
    "Product_Name = []\n",
    "Product_Price = []\n",
    "Product_Rating = []\n",
    "Product_Desc = []\n",
    "\n",
    "# Scrape data from multiple pages (2 to 4)\n",
    "for i in range(2, 5):  # Change the number to fetch more pages\n",
    "    url = (\n",
    "        \"https://www.flipkart.com/search?q=manga+comics&sid=bks&as=on&as-show=on&otracker=AS_QueryStore_OrganicAutoSuggest_2_6_na_na_na&otracker1=AS_QueryStore_OrganicAutoSuggest_2_6_na_na_na&as-pos=2&as-type=RECENT&suggestionId=manga+comics%7CBooks&requestId=ac38a896-1938-483a-8fe8-513a470ac068&as-searchtext=manga+&page=\"\n",
    "        + str(i)\n",
    "    )\n",
    "\n",
    "    # Send request to the URL and get the response\n",
    "    response = requests.get(url, verify=False)\n",
    "\n",
    "    # Check if the response is successful (status code 200)\n",
    "    if response.status_code == 200:\n",
    "        soup = bs(response.text, \"lxml\")\n",
    "\n",
    "        # Find the link to the next page (NEXT Button link)\n",
    "        link = soup.find(\"a\", attrs={\"class\": \"_1LKTO3\"}).get(\"href\")\n",
    "        product_list = \"https://flipkart.com\" + link\n",
    "\n",
    "        # Find the div containing mobile data on the page\n",
    "        box = soup.find(\"div\", attrs={\"class\": \"_1YokD2 _3Mn1Gg\"})\n",
    "\n",
    "        # Fetch Name, Price, Rating, and Description of each mobile\n",
    "        devices = box.find_all(\"a\", attrs={\"class\": \"_2rpwqI\"})\n",
    "        for i in devices:\n",
    "            # Scrape product name from website\n",
    "            name = i.text\n",
    "            Product_Name.append(name)\n",
    "\n",
    "        prices = box.find_all(\"div\", attrs={\"class\": \"_30jeq3\"})\n",
    "        for i in prices:\n",
    "            # Scrape product price from website\n",
    "            price = i.text.strip()\n",
    "            Product_Price.append(price)\n",
    "\n",
    "        # Scrape product rating from website\n",
    "        ratings = box.find_all(\"div\", attrs={\"class\": \"_3LWZlK\"})\n",
    "        for i in ratings:\n",
    "            rating = i.text.strip()\n",
    "            if rating:\n",
    "                Product_Rating.append(rating)\n",
    "            else:\n",
    "                # Append NaN when rating is not available\n",
    "                Product_Rating.append(math.nan)\n",
    "\n",
    "        # details = box.find_all(\"ul\", attrs={\"class\": \"_3Djpdu\"})\n",
    "        # for i in details:\n",
    "        #     # Scrape product details from website\n",
    "        #     details = i.text.strip()\n",
    "        #     Product_Desc.append(details)\n",
    "\n",
    "    else:\n",
    "        print(f\"Failed to fetch the webpage. Status Code: {response.status_code}\")\n",
    "\n",
    "# Check the length of each list\n",
    "print(\"Product_Name Length:\", len(Product_Name))\n",
    "print(\"Product_Price Length:\", len(Product_Price))\n",
    "print(\"Product_Rating Length:\", len(Product_Rating))\n",
    "# print(\"Product_Desc Length:\", len(Product_Desc))\n",
    "\n",
    "# Create a DataFrame and save data to CSV if all lists have the same length\n",
    "if len(Product_Name) == len(Product_Price) == len(Product_Rating) == len(Product_Desc):\n",
    "    df = pd.DataFrame(\n",
    "        {\n",
    "            \"Product Name\": Product_Name,\n",
    "            \"Product Price\": Product_Price,\n",
    "            \"Product Rating\": Product_Rating,\n",
    "            # \"Product Details\": Product_Desc,\n",
    "        }\n",
    "    )\n",
    "    df.to_csv(\"Flipkart_Mobiles.csv\", index=False)\n",
    "    print(\"Data Exported!\")\n",
    "else:\n",
    "    print(\"Error: Lists have different lengths. Check your scraping logic.\")\n",
    "\n",
    "\n",
    "# Create a DataFrame and save data to CSV\n",
    "# df = pd.DataFrame(\n",
    "#     {\n",
    "#         \"Product Name\": Product_Name,\n",
    "#         \"Product Price\": Product_Price,\n",
    "#         \"Product Rating\": Product_Rating,\n",
    "#         \"Product Details\": Product_Desc,\n",
    "#     }\n",
    "# )\n",
    "# df.to_csv(\"Flipkart_Mobiles.csv\", index=False)\n",
    "df\n",
    "print(\"Data Exported!\")"
   ]
  },
  {
   "cell_type": "code",
   "execution_count": 27,
   "metadata": {},
   "outputs": [
    {
     "name": "stdout",
     "output_type": "stream",
     "text": [
      "Error: Lists have different lengths. Check your scraping logic.\n"
     ]
    }
   ],
   "source": [
    "import requests\n",
    "import pandas as pd\n",
    "from bs4 import BeautifulSoup as bs\n",
    "from urllib3.exceptions import InsecureRequestWarning\n",
    "import math  # Import the math module for NaN\n",
    "\n",
    "# Disable insecure request warnings\n",
    "requests.packages.urllib3.disable_warnings(InsecureRequestWarning)\n",
    "\n",
    "# Lists to store scraped data\n",
    "Product_Name = []\n",
    "Product_Price = []\n",
    "Product_Rating = []\n",
    "Product_Desc = []\n",
    "\n",
    "# Scrape data from multiple pages (2 to 4)\n",
    "for i in range(2, 5):  # Change the number to fetch more pages\n",
    "    url = (\n",
    "        \"https://www.flipkart.com/search?q=manga+comics&sid=bks&as=on&as-show=on&otracker=AS_QueryStore_OrganicAutoSuggest_2_6_na_na_na&otracker1=AS_QueryStore_OrganicAutoSuggest_2_6_na_na_na&as-pos=2&as-type=RECENT&suggestionId=manga+comics%7CBooks&requestId=ac38a896-1938-483a-8fe8-513a470ac068&as-searchtext=manga+&page=\"\n",
    "        + str(i)\n",
    "    )\n",
    "\n",
    "    # Send request to the URL and get the response\n",
    "    response = requests.get(url, verify=False)\n",
    "\n",
    "    # Check if the response is successful (status code 200)\n",
    "    if response.status_code == 200:\n",
    "        soup = bs(response.text, \"lxml\")\n",
    "\n",
    "        # Find the link to the next page (NEXT Button link)\n",
    "        link = soup.find(\"a\", attrs={\"class\": \"_1LKTO3\"}).get(\"href\")\n",
    "        product_list = \"https://flipkart.com\" + link\n",
    "\n",
    "        # Find the div containing mobile data on the page\n",
    "        box = soup.find(\"div\", attrs={\"class\": \"_1YokD2 _3Mn1Gg\"})\n",
    "\n",
    "        # Fetch Name, Price, Rating, and Description of each mobile\n",
    "        devices = box.find_all(\"a\", attrs={\"class\": \"_2rpwqI\"})\n",
    "        prices = box.find_all(\"div\", attrs={\"class\": \"_30jeq3\"})\n",
    "        ratings = box.find_all(\"div\", attrs={\"class\": \"_3LWZlK\"})\n",
    "        # details = box.find_all(\"ul\", attrs={\"class\": \"_3Djpdu\"})\n",
    "\n",
    "        # Iterate over the lists using zip\n",
    "        # desc  # details\n",
    "        for name, price, rating, in zip(devices, prices, ratings):\n",
    "            # Scrape product name from website\n",
    "            Product_Name.append(name.text)\n",
    "\n",
    "            # Scrape product price from website\n",
    "            Product_Price.append(price.text.strip())\n",
    "\n",
    "            # Scrape product rating from website or add NaN if not available\n",
    "            if rating:\n",
    "                Product_Rating.append(rating.text.strip())\n",
    "            else:\n",
    "                Product_Rating.append(math.nan)\n",
    "\n",
    "            # Scrape product details from website\n",
    "            # Product_Desc.append(desc.text.strip())\n",
    "\n",
    "    else:\n",
    "        print(\n",
    "            f\"Failed to fetch the webpage. Status Code: {response.status_code}\")\n",
    "\n",
    "# Create a DataFrame and save data to CSV if all lists have the same length\n",
    "if len(Product_Name) == len(Product_Price) == len(Product_Rating) == len(Product_Desc):\n",
    "    df = pd.DataFrame(\n",
    "        {\n",
    "            \"Product Name\": Product_Name,\n",
    "            \"Product Price\": Product_Price,\n",
    "            \"Product Rating\": Product_Rating,\n",
    "            \"Product Details\": Product_Desc,\n",
    "        }\n",
    "    )\n",
    "    # df.to_csv(\"Flipkart_Mobiles.csv\", index=False)\n",
    "    print(df)\n",
    "    # print(\"Data Exported!\")\n",
    "else:\n",
    "    print(\"Error: Lists have different lengths. Check your scraping logic.\")"
   ]
  },
  {
   "cell_type": "code",
   "execution_count": null,
   "metadata": {},
   "outputs": [],
   "source": []
  }
 ],
 "metadata": {
  "kernelspec": {
   "display_name": "Python 3",
   "language": "python",
   "name": "python3"
  },
  "language_info": {
   "codemirror_mode": {
    "name": "ipython",
    "version": 3
   },
   "file_extension": ".py",
   "mimetype": "text/x-python",
   "name": "python",
   "nbconvert_exporter": "python",
   "pygments_lexer": "ipython3",
   "version": "3.11.1"
  },
  "orig_nbformat": 4
 },
 "nbformat": 4,
 "nbformat_minor": 2
}
